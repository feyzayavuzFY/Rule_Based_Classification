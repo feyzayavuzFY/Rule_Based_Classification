{
  "nbformat": 4,
  "nbformat_minor": 0,
  "metadata": {
    "colab": {
      "name": "Rule_Based_Classification.ipynb",
      "provenance": [],
      "authorship_tag": "ABX9TyOPXX2mY20faioJ9/B+5gAB",
      "include_colab_link": true
    },
    "kernelspec": {
      "name": "python3",
      "display_name": "Python 3"
    },
    "language_info": {
      "name": "python"
    }
  },
  "cells": [
    {
      "cell_type": "markdown",
      "metadata": {
        "id": "view-in-github",
        "colab_type": "text"
      },
      "source": [
        "<a href=\"https://colab.research.google.com/github/feyzayavuzFY/Rule_Based_Classification/blob/main/Rule_Based_Classification.ipynb\" target=\"_parent\"><img src=\"https://colab.research.google.com/assets/colab-badge.svg\" alt=\"Open In Colab\"/></a>"
      ]
    },
    {
      "cell_type": "code",
      "metadata": {
        "id": "-H_hbyFh-arm"
      },
      "source": [
        "#required libraries\n",
        "import numpy as np\n",
        "import pandas as pd"
      ],
      "execution_count": 59,
      "outputs": []
    },
    {
      "cell_type": "code",
      "metadata": {
        "id": "_WzFhb4s-axH"
      },
      "source": [
        "# loading dataset\n",
        "df_ = pd.read_csv(\"persona.csv\")\n",
        "df = df_.copy()"
      ],
      "execution_count": 65,
      "outputs": []
    },
    {
      "cell_type": "markdown",
      "metadata": {
        "id": "nPzCilvt_gpi"
      },
      "source": [
        "#general information about the dataset"
      ]
    },
    {
      "cell_type": "code",
      "metadata": {
        "colab": {
          "base_uri": "https://localhost:8080/",
          "height": 204
        },
        "id": "ClcGHo2e-bWA",
        "outputId": "be07ba93-bccf-4e79-a5bc-5a0d75b43d3f"
      },
      "source": [
        "df.head()"
      ],
      "execution_count": 47,
      "outputs": [
        {
          "output_type": "execute_result",
          "data": {
            "text/html": [
              "<div>\n",
              "<style scoped>\n",
              "    .dataframe tbody tr th:only-of-type {\n",
              "        vertical-align: middle;\n",
              "    }\n",
              "\n",
              "    .dataframe tbody tr th {\n",
              "        vertical-align: top;\n",
              "    }\n",
              "\n",
              "    .dataframe thead th {\n",
              "        text-align: right;\n",
              "    }\n",
              "</style>\n",
              "<table border=\"1\" class=\"dataframe\">\n",
              "  <thead>\n",
              "    <tr style=\"text-align: right;\">\n",
              "      <th></th>\n",
              "      <th>PRICE</th>\n",
              "      <th>SOURCE</th>\n",
              "      <th>SEX</th>\n",
              "      <th>COUNTRY</th>\n",
              "      <th>AGE</th>\n",
              "    </tr>\n",
              "  </thead>\n",
              "  <tbody>\n",
              "    <tr>\n",
              "      <th>0</th>\n",
              "      <td>39</td>\n",
              "      <td>android</td>\n",
              "      <td>male</td>\n",
              "      <td>bra</td>\n",
              "      <td>17</td>\n",
              "    </tr>\n",
              "    <tr>\n",
              "      <th>1</th>\n",
              "      <td>39</td>\n",
              "      <td>android</td>\n",
              "      <td>male</td>\n",
              "      <td>bra</td>\n",
              "      <td>17</td>\n",
              "    </tr>\n",
              "    <tr>\n",
              "      <th>2</th>\n",
              "      <td>49</td>\n",
              "      <td>android</td>\n",
              "      <td>male</td>\n",
              "      <td>bra</td>\n",
              "      <td>17</td>\n",
              "    </tr>\n",
              "    <tr>\n",
              "      <th>3</th>\n",
              "      <td>29</td>\n",
              "      <td>android</td>\n",
              "      <td>male</td>\n",
              "      <td>tur</td>\n",
              "      <td>17</td>\n",
              "    </tr>\n",
              "    <tr>\n",
              "      <th>4</th>\n",
              "      <td>49</td>\n",
              "      <td>android</td>\n",
              "      <td>male</td>\n",
              "      <td>tur</td>\n",
              "      <td>17</td>\n",
              "    </tr>\n",
              "  </tbody>\n",
              "</table>\n",
              "</div>"
            ],
            "text/plain": [
              "   PRICE   SOURCE   SEX COUNTRY  AGE\n",
              "0     39  android  male     bra   17\n",
              "1     39  android  male     bra   17\n",
              "2     49  android  male     bra   17\n",
              "3     29  android  male     tur   17\n",
              "4     49  android  male     tur   17"
            ]
          },
          "metadata": {},
          "execution_count": 47
        }
      ]
    },
    {
      "cell_type": "code",
      "metadata": {
        "colab": {
          "base_uri": "https://localhost:8080/",
          "height": 111
        },
        "id": "XHpSQU1X-beq",
        "outputId": "91425769-c2d7-476a-bf95-ad9949f9563f"
      },
      "source": [
        "df.describe().T"
      ],
      "execution_count": 48,
      "outputs": [
        {
          "output_type": "execute_result",
          "data": {
            "text/html": [
              "<div>\n",
              "<style scoped>\n",
              "    .dataframe tbody tr th:only-of-type {\n",
              "        vertical-align: middle;\n",
              "    }\n",
              "\n",
              "    .dataframe tbody tr th {\n",
              "        vertical-align: top;\n",
              "    }\n",
              "\n",
              "    .dataframe thead th {\n",
              "        text-align: right;\n",
              "    }\n",
              "</style>\n",
              "<table border=\"1\" class=\"dataframe\">\n",
              "  <thead>\n",
              "    <tr style=\"text-align: right;\">\n",
              "      <th></th>\n",
              "      <th>count</th>\n",
              "      <th>mean</th>\n",
              "      <th>std</th>\n",
              "      <th>min</th>\n",
              "      <th>25%</th>\n",
              "      <th>50%</th>\n",
              "      <th>75%</th>\n",
              "      <th>max</th>\n",
              "    </tr>\n",
              "  </thead>\n",
              "  <tbody>\n",
              "    <tr>\n",
              "      <th>PRICE</th>\n",
              "      <td>5000.0</td>\n",
              "      <td>34.1320</td>\n",
              "      <td>12.464897</td>\n",
              "      <td>9.0</td>\n",
              "      <td>29.0</td>\n",
              "      <td>39.0</td>\n",
              "      <td>39.0</td>\n",
              "      <td>59.0</td>\n",
              "    </tr>\n",
              "    <tr>\n",
              "      <th>AGE</th>\n",
              "      <td>5000.0</td>\n",
              "      <td>23.5814</td>\n",
              "      <td>8.995908</td>\n",
              "      <td>15.0</td>\n",
              "      <td>17.0</td>\n",
              "      <td>21.0</td>\n",
              "      <td>27.0</td>\n",
              "      <td>66.0</td>\n",
              "    </tr>\n",
              "  </tbody>\n",
              "</table>\n",
              "</div>"
            ],
            "text/plain": [
              "        count     mean        std   min   25%   50%   75%   max\n",
              "PRICE  5000.0  34.1320  12.464897   9.0  29.0  39.0  39.0  59.0\n",
              "AGE    5000.0  23.5814   8.995908  15.0  17.0  21.0  27.0  66.0"
            ]
          },
          "metadata": {},
          "execution_count": 48
        }
      ]
    },
    {
      "cell_type": "code",
      "metadata": {
        "colab": {
          "base_uri": "https://localhost:8080/"
        },
        "id": "RJNE5QRr-bnK",
        "outputId": "7f3dcd3b-705a-4df6-a7e0-d975f8056ad4"
      },
      "source": [
        "df.info()"
      ],
      "execution_count": 49,
      "outputs": [
        {
          "output_type": "stream",
          "name": "stdout",
          "text": [
            "<class 'pandas.core.frame.DataFrame'>\n",
            "Int64Index: 5000 entries, 0 to 4999\n",
            "Data columns (total 5 columns):\n",
            " #   Column   Non-Null Count  Dtype \n",
            "---  ------   --------------  ----- \n",
            " 0   PRICE    5000 non-null   int64 \n",
            " 1   SOURCE   5000 non-null   object\n",
            " 2   SEX      5000 non-null   object\n",
            " 3   COUNTRY  5000 non-null   object\n",
            " 4   AGE      5000 non-null   int64 \n",
            "dtypes: int64(2), object(3)\n",
            "memory usage: 234.4+ KB\n"
          ]
        }
      ]
    },
    {
      "cell_type": "code",
      "metadata": {
        "colab": {
          "base_uri": "https://localhost:8080/"
        },
        "id": "53CrDwxk-cU6",
        "outputId": "93ec8b26-cac3-49a4-8fc6-3edfedf7a0a5"
      },
      "source": [
        "print(df.isnull().sum()) # null values\n",
        "print(\"#\"*20)\n",
        "print(df.shape)\n",
        "print(\"#\"*20)\n",
        "print(df.dtypes)\n",
        "print(\"#\"*20)\n",
        "print(df.quantile([0, 0.05, 0.50, 0.95, 0.99, 1]).T) "
      ],
      "execution_count": 50,
      "outputs": [
        {
          "output_type": "stream",
          "name": "stdout",
          "text": [
            "PRICE      0\n",
            "SOURCE     0\n",
            "SEX        0\n",
            "COUNTRY    0\n",
            "AGE        0\n",
            "dtype: int64\n",
            "####################\n",
            "(5000, 5)\n",
            "####################\n",
            "PRICE       int64\n",
            "SOURCE     object\n",
            "SEX        object\n",
            "COUNTRY    object\n",
            "AGE         int64\n",
            "dtype: object\n",
            "####################\n",
            "       0.00  0.05  0.50  0.95  0.99  1.00\n",
            "PRICE   9.0  19.0  39.0  49.0  59.0  59.0\n",
            "AGE    15.0  15.0  21.0  43.0  53.0  66.0\n"
          ]
        }
      ]
    },
    {
      "cell_type": "code",
      "metadata": {
        "colab": {
          "base_uri": "https://localhost:8080/"
        },
        "id": "NjkuXu5B-ces",
        "outputId": "d6f79639-25b9-48cc-c73b-1d11f08e08ad"
      },
      "source": [
        "# unique values count\n",
        "print(df[\"SOURCE\"].nunique()) \n",
        "print(df[\"PRICE\"].nunique())"
      ],
      "execution_count": 51,
      "outputs": [
        {
          "output_type": "stream",
          "name": "stdout",
          "text": [
            "2\n",
            "6\n"
          ]
        }
      ]
    },
    {
      "cell_type": "code",
      "metadata": {
        "colab": {
          "base_uri": "https://localhost:8080/"
        },
        "id": "A5tWOcyW-coS",
        "outputId": "433c4c47-053a-483c-b518-0f1fbd94dda6"
      },
      "source": [
        "#frequencies\n",
        "print(df[\"SEX\"].value_counts())\n",
        "print(df[\"SOURCE\"].value_counts())\n",
        "print(df[\"PRICE\"].value_counts())"
      ],
      "execution_count": 52,
      "outputs": [
        {
          "output_type": "stream",
          "name": "stdout",
          "text": [
            "female    2621\n",
            "male      2379\n",
            "Name: SEX, dtype: int64\n",
            "android    2974\n",
            "ios        2026\n",
            "Name: SOURCE, dtype: int64\n",
            "29    1305\n",
            "39    1260\n",
            "49    1031\n",
            "19     992\n",
            "59     212\n",
            "9      200\n",
            "Name: PRICE, dtype: int64\n"
          ]
        }
      ]
    },
    {
      "cell_type": "code",
      "metadata": {
        "colab": {
          "base_uri": "https://localhost:8080/"
        },
        "id": "g1iHNgVeESVw",
        "outputId": "f6b0f392-b562-496e-c0fc-9b1b7ea53475"
      },
      "source": [
        "# How many people were from each country?\n",
        "print(df[\"COUNTRY\"].value_counts())"
      ],
      "execution_count": 53,
      "outputs": [
        {
          "output_type": "stream",
          "name": "stdout",
          "text": [
            "usa    2065\n",
            "bra    1496\n",
            "deu     455\n",
            "tur     451\n",
            "fra     303\n",
            "can     230\n",
            "Name: COUNTRY, dtype: int64\n"
          ]
        }
      ]
    },
    {
      "cell_type": "code",
      "metadata": {
        "colab": {
          "base_uri": "https://localhost:8080/",
          "height": 266
        },
        "id": "dB-5ULcVDkJH",
        "outputId": "cb96313e-c982-4e0d-a661-d5ea30606c8f"
      },
      "source": [
        "# How many sales were made from each country?\n",
        "df.groupby(\"COUNTRY\").agg({\"PRICE\": \"count\"}).sort_values(\"PRICE\", ascending=False)"
      ],
      "execution_count": 54,
      "outputs": [
        {
          "output_type": "execute_result",
          "data": {
            "text/html": [
              "<div>\n",
              "<style scoped>\n",
              "    .dataframe tbody tr th:only-of-type {\n",
              "        vertical-align: middle;\n",
              "    }\n",
              "\n",
              "    .dataframe tbody tr th {\n",
              "        vertical-align: top;\n",
              "    }\n",
              "\n",
              "    .dataframe thead th {\n",
              "        text-align: right;\n",
              "    }\n",
              "</style>\n",
              "<table border=\"1\" class=\"dataframe\">\n",
              "  <thead>\n",
              "    <tr style=\"text-align: right;\">\n",
              "      <th></th>\n",
              "      <th>PRICE</th>\n",
              "    </tr>\n",
              "    <tr>\n",
              "      <th>COUNTRY</th>\n",
              "      <th></th>\n",
              "    </tr>\n",
              "  </thead>\n",
              "  <tbody>\n",
              "    <tr>\n",
              "      <th>usa</th>\n",
              "      <td>2065</td>\n",
              "    </tr>\n",
              "    <tr>\n",
              "      <th>bra</th>\n",
              "      <td>1496</td>\n",
              "    </tr>\n",
              "    <tr>\n",
              "      <th>deu</th>\n",
              "      <td>455</td>\n",
              "    </tr>\n",
              "    <tr>\n",
              "      <th>tur</th>\n",
              "      <td>451</td>\n",
              "    </tr>\n",
              "    <tr>\n",
              "      <th>fra</th>\n",
              "      <td>303</td>\n",
              "    </tr>\n",
              "    <tr>\n",
              "      <th>can</th>\n",
              "      <td>230</td>\n",
              "    </tr>\n",
              "  </tbody>\n",
              "</table>\n",
              "</div>"
            ],
            "text/plain": [
              "         PRICE\n",
              "COUNTRY       \n",
              "usa       2065\n",
              "bra       1496\n",
              "deu        455\n",
              "tur        451\n",
              "fra        303\n",
              "can        230"
            ]
          },
          "metadata": {},
          "execution_count": 54
        }
      ]
    },
    {
      "cell_type": "code",
      "metadata": {
        "colab": {
          "base_uri": "https://localhost:8080/",
          "height": 266
        },
        "id": "tjluDXH8DxzH",
        "outputId": "edbebb1d-5ba6-4ccc-f662-e5995ef88e42"
      },
      "source": [
        "# total price from sales by country\n",
        "df.groupby(\"COUNTRY\").agg({\"PRICE\": \"sum\"}).sort_values(\"PRICE\", ascending=False)"
      ],
      "execution_count": 55,
      "outputs": [
        {
          "output_type": "execute_result",
          "data": {
            "text/html": [
              "<div>\n",
              "<style scoped>\n",
              "    .dataframe tbody tr th:only-of-type {\n",
              "        vertical-align: middle;\n",
              "    }\n",
              "\n",
              "    .dataframe tbody tr th {\n",
              "        vertical-align: top;\n",
              "    }\n",
              "\n",
              "    .dataframe thead th {\n",
              "        text-align: right;\n",
              "    }\n",
              "</style>\n",
              "<table border=\"1\" class=\"dataframe\">\n",
              "  <thead>\n",
              "    <tr style=\"text-align: right;\">\n",
              "      <th></th>\n",
              "      <th>PRICE</th>\n",
              "    </tr>\n",
              "    <tr>\n",
              "      <th>COUNTRY</th>\n",
              "      <th></th>\n",
              "    </tr>\n",
              "  </thead>\n",
              "  <tbody>\n",
              "    <tr>\n",
              "      <th>usa</th>\n",
              "      <td>70225</td>\n",
              "    </tr>\n",
              "    <tr>\n",
              "      <th>bra</th>\n",
              "      <td>51354</td>\n",
              "    </tr>\n",
              "    <tr>\n",
              "      <th>tur</th>\n",
              "      <td>15689</td>\n",
              "    </tr>\n",
              "    <tr>\n",
              "      <th>deu</th>\n",
              "      <td>15485</td>\n",
              "    </tr>\n",
              "    <tr>\n",
              "      <th>fra</th>\n",
              "      <td>10177</td>\n",
              "    </tr>\n",
              "    <tr>\n",
              "      <th>can</th>\n",
              "      <td>7730</td>\n",
              "    </tr>\n",
              "  </tbody>\n",
              "</table>\n",
              "</div>"
            ],
            "text/plain": [
              "         PRICE\n",
              "COUNTRY       \n",
              "usa      70225\n",
              "bra      51354\n",
              "tur      15689\n",
              "deu      15485\n",
              "fra      10177\n",
              "can       7730"
            ]
          },
          "metadata": {},
          "execution_count": 55
        }
      ]
    },
    {
      "cell_type": "code",
      "metadata": {
        "colab": {
          "base_uri": "https://localhost:8080/",
          "height": 450
        },
        "id": "avB8p1fiISwK",
        "outputId": "37b7b841-ddc6-49f3-b2e0-40ebef921d66"
      },
      "source": [
        "# What are the average earnings in breakdown of COUNTRY, SOURCE, SEX and AGE\n",
        "# sort and save the output\n",
        "new_df = df.groupby([\"COUNTRY\", \"SOURCE\",\"SEX\",\"AGE\"]).agg({\"PRICE\": \"mean\"}).sort_values(\"PRICE\", ascending=False)\n",
        "new_df"
      ],
      "execution_count": 66,
      "outputs": [
        {
          "output_type": "execute_result",
          "data": {
            "text/html": [
              "<div>\n",
              "<style scoped>\n",
              "    .dataframe tbody tr th:only-of-type {\n",
              "        vertical-align: middle;\n",
              "    }\n",
              "\n",
              "    .dataframe tbody tr th {\n",
              "        vertical-align: top;\n",
              "    }\n",
              "\n",
              "    .dataframe thead th {\n",
              "        text-align: right;\n",
              "    }\n",
              "</style>\n",
              "<table border=\"1\" class=\"dataframe\">\n",
              "  <thead>\n",
              "    <tr style=\"text-align: right;\">\n",
              "      <th></th>\n",
              "      <th></th>\n",
              "      <th></th>\n",
              "      <th></th>\n",
              "      <th>PRICE</th>\n",
              "    </tr>\n",
              "    <tr>\n",
              "      <th>COUNTRY</th>\n",
              "      <th>SOURCE</th>\n",
              "      <th>SEX</th>\n",
              "      <th>AGE</th>\n",
              "      <th></th>\n",
              "    </tr>\n",
              "  </thead>\n",
              "  <tbody>\n",
              "    <tr>\n",
              "      <th>bra</th>\n",
              "      <th>android</th>\n",
              "      <th>male</th>\n",
              "      <th>46</th>\n",
              "      <td>59.0</td>\n",
              "    </tr>\n",
              "    <tr>\n",
              "      <th>usa</th>\n",
              "      <th>android</th>\n",
              "      <th>male</th>\n",
              "      <th>36</th>\n",
              "      <td>59.0</td>\n",
              "    </tr>\n",
              "    <tr>\n",
              "      <th>fra</th>\n",
              "      <th>android</th>\n",
              "      <th>female</th>\n",
              "      <th>24</th>\n",
              "      <td>59.0</td>\n",
              "    </tr>\n",
              "    <tr>\n",
              "      <th>usa</th>\n",
              "      <th>ios</th>\n",
              "      <th>male</th>\n",
              "      <th>32</th>\n",
              "      <td>54.0</td>\n",
              "    </tr>\n",
              "    <tr>\n",
              "      <th>deu</th>\n",
              "      <th>android</th>\n",
              "      <th>female</th>\n",
              "      <th>36</th>\n",
              "      <td>49.0</td>\n",
              "    </tr>\n",
              "    <tr>\n",
              "      <th>...</th>\n",
              "      <th>...</th>\n",
              "      <th>...</th>\n",
              "      <th>...</th>\n",
              "      <td>...</td>\n",
              "    </tr>\n",
              "    <tr>\n",
              "      <th rowspan=\"2\" valign=\"top\">usa</th>\n",
              "      <th rowspan=\"2\" valign=\"top\">ios</th>\n",
              "      <th rowspan=\"2\" valign=\"top\">female</th>\n",
              "      <th>38</th>\n",
              "      <td>19.0</td>\n",
              "    </tr>\n",
              "    <tr>\n",
              "      <th>30</th>\n",
              "      <td>19.0</td>\n",
              "    </tr>\n",
              "    <tr>\n",
              "      <th>can</th>\n",
              "      <th>android</th>\n",
              "      <th>female</th>\n",
              "      <th>27</th>\n",
              "      <td>19.0</td>\n",
              "    </tr>\n",
              "    <tr>\n",
              "      <th>fra</th>\n",
              "      <th>android</th>\n",
              "      <th>male</th>\n",
              "      <th>18</th>\n",
              "      <td>19.0</td>\n",
              "    </tr>\n",
              "    <tr>\n",
              "      <th>deu</th>\n",
              "      <th>android</th>\n",
              "      <th>male</th>\n",
              "      <th>26</th>\n",
              "      <td>9.0</td>\n",
              "    </tr>\n",
              "  </tbody>\n",
              "</table>\n",
              "<p>348 rows × 1 columns</p>\n",
              "</div>"
            ],
            "text/plain": [
              "                            PRICE\n",
              "COUNTRY SOURCE  SEX    AGE       \n",
              "bra     android male   46    59.0\n",
              "usa     android male   36    59.0\n",
              "fra     android female 24    59.0\n",
              "usa     ios     male   32    54.0\n",
              "deu     android female 36    49.0\n",
              "...                           ...\n",
              "usa     ios     female 38    19.0\n",
              "                       30    19.0\n",
              "can     android female 27    19.0\n",
              "fra     android male   18    19.0\n",
              "deu     android male   26     9.0\n",
              "\n",
              "[348 rows x 1 columns]"
            ]
          },
          "metadata": {},
          "execution_count": 66
        }
      ]
    },
    {
      "cell_type": "code",
      "metadata": {
        "id": "diJGZlkxIS1k"
      },
      "source": [
        "# Convert the names in the index to variable names\n",
        "new_df.reset_index(inplace=True)"
      ],
      "execution_count": 67,
      "outputs": []
    },
    {
      "cell_type": "code",
      "metadata": {
        "colab": {
          "base_uri": "https://localhost:8080/",
          "height": 204
        },
        "id": "c5bdmgP1LmG4",
        "outputId": "9f3fa3f0-e727-4300-dbe1-f9ee3bb10cdb"
      },
      "source": [
        "new_df.head()"
      ],
      "execution_count": 68,
      "outputs": [
        {
          "output_type": "execute_result",
          "data": {
            "text/html": [
              "<div>\n",
              "<style scoped>\n",
              "    .dataframe tbody tr th:only-of-type {\n",
              "        vertical-align: middle;\n",
              "    }\n",
              "\n",
              "    .dataframe tbody tr th {\n",
              "        vertical-align: top;\n",
              "    }\n",
              "\n",
              "    .dataframe thead th {\n",
              "        text-align: right;\n",
              "    }\n",
              "</style>\n",
              "<table border=\"1\" class=\"dataframe\">\n",
              "  <thead>\n",
              "    <tr style=\"text-align: right;\">\n",
              "      <th></th>\n",
              "      <th>COUNTRY</th>\n",
              "      <th>SOURCE</th>\n",
              "      <th>SEX</th>\n",
              "      <th>AGE</th>\n",
              "      <th>PRICE</th>\n",
              "    </tr>\n",
              "  </thead>\n",
              "  <tbody>\n",
              "    <tr>\n",
              "      <th>0</th>\n",
              "      <td>bra</td>\n",
              "      <td>android</td>\n",
              "      <td>male</td>\n",
              "      <td>46</td>\n",
              "      <td>59.0</td>\n",
              "    </tr>\n",
              "    <tr>\n",
              "      <th>1</th>\n",
              "      <td>usa</td>\n",
              "      <td>android</td>\n",
              "      <td>male</td>\n",
              "      <td>36</td>\n",
              "      <td>59.0</td>\n",
              "    </tr>\n",
              "    <tr>\n",
              "      <th>2</th>\n",
              "      <td>fra</td>\n",
              "      <td>android</td>\n",
              "      <td>female</td>\n",
              "      <td>24</td>\n",
              "      <td>59.0</td>\n",
              "    </tr>\n",
              "    <tr>\n",
              "      <th>3</th>\n",
              "      <td>usa</td>\n",
              "      <td>ios</td>\n",
              "      <td>male</td>\n",
              "      <td>32</td>\n",
              "      <td>54.0</td>\n",
              "    </tr>\n",
              "    <tr>\n",
              "      <th>4</th>\n",
              "      <td>deu</td>\n",
              "      <td>android</td>\n",
              "      <td>female</td>\n",
              "      <td>36</td>\n",
              "      <td>49.0</td>\n",
              "    </tr>\n",
              "  </tbody>\n",
              "</table>\n",
              "</div>"
            ],
            "text/plain": [
              "  COUNTRY   SOURCE     SEX  AGE  PRICE\n",
              "0     bra  android    male   46   59.0\n",
              "1     usa  android    male   36   59.0\n",
              "2     fra  android  female   24   59.0\n",
              "3     usa      ios    male   32   54.0\n",
              "4     deu  android  female   36   49.0"
            ]
          },
          "metadata": {},
          "execution_count": 68
        }
      ]
    },
    {
      "cell_type": "code",
      "metadata": {
        "id": "gw26VHd8IS8E"
      },
      "source": [
        "# Convert AGE variable to categorical variable and add it to new_df\n",
        "\n",
        "new_df[\"CAT_AGE\"] = pd.cut(new_df[\"AGE\"], bins=[0, 18, 23, 30, 40, new_df[\"AGE\"].max()],labels=[\"0_18\", \"19_23\", \"24_30\", \"31_40\", \"41_\" + str(new_df[\"AGE\"].max())])\n"
      ],
      "execution_count": 74,
      "outputs": []
    },
    {
      "cell_type": "code",
      "metadata": {
        "colab": {
          "base_uri": "https://localhost:8080/",
          "height": 204
        },
        "id": "gTx8wUSVITi6",
        "outputId": "4cd35357-bc92-4f2e-bfac-72cf4dcb82c2"
      },
      "source": [
        "new_df.head()"
      ],
      "execution_count": 75,
      "outputs": [
        {
          "output_type": "execute_result",
          "data": {
            "text/html": [
              "<div>\n",
              "<style scoped>\n",
              "    .dataframe tbody tr th:only-of-type {\n",
              "        vertical-align: middle;\n",
              "    }\n",
              "\n",
              "    .dataframe tbody tr th {\n",
              "        vertical-align: top;\n",
              "    }\n",
              "\n",
              "    .dataframe thead th {\n",
              "        text-align: right;\n",
              "    }\n",
              "</style>\n",
              "<table border=\"1\" class=\"dataframe\">\n",
              "  <thead>\n",
              "    <tr style=\"text-align: right;\">\n",
              "      <th></th>\n",
              "      <th>COUNTRY</th>\n",
              "      <th>SOURCE</th>\n",
              "      <th>SEX</th>\n",
              "      <th>AGE</th>\n",
              "      <th>PRICE</th>\n",
              "      <th>CAT_AGE</th>\n",
              "    </tr>\n",
              "  </thead>\n",
              "  <tbody>\n",
              "    <tr>\n",
              "      <th>0</th>\n",
              "      <td>bra</td>\n",
              "      <td>android</td>\n",
              "      <td>male</td>\n",
              "      <td>46</td>\n",
              "      <td>59.0</td>\n",
              "      <td>41_66</td>\n",
              "    </tr>\n",
              "    <tr>\n",
              "      <th>1</th>\n",
              "      <td>usa</td>\n",
              "      <td>android</td>\n",
              "      <td>male</td>\n",
              "      <td>36</td>\n",
              "      <td>59.0</td>\n",
              "      <td>31_40</td>\n",
              "    </tr>\n",
              "    <tr>\n",
              "      <th>2</th>\n",
              "      <td>fra</td>\n",
              "      <td>android</td>\n",
              "      <td>female</td>\n",
              "      <td>24</td>\n",
              "      <td>59.0</td>\n",
              "      <td>24_30</td>\n",
              "    </tr>\n",
              "    <tr>\n",
              "      <th>3</th>\n",
              "      <td>usa</td>\n",
              "      <td>ios</td>\n",
              "      <td>male</td>\n",
              "      <td>32</td>\n",
              "      <td>54.0</td>\n",
              "      <td>31_40</td>\n",
              "    </tr>\n",
              "    <tr>\n",
              "      <th>4</th>\n",
              "      <td>deu</td>\n",
              "      <td>android</td>\n",
              "      <td>female</td>\n",
              "      <td>36</td>\n",
              "      <td>49.0</td>\n",
              "      <td>31_40</td>\n",
              "    </tr>\n",
              "  </tbody>\n",
              "</table>\n",
              "</div>"
            ],
            "text/plain": [
              "  COUNTRY   SOURCE     SEX  AGE  PRICE CAT_AGE\n",
              "0     bra  android    male   46   59.0   41_66\n",
              "1     usa  android    male   36   59.0   31_40\n",
              "2     fra  android  female   24   59.0   24_30\n",
              "3     usa      ios    male   32   54.0   31_40\n",
              "4     deu  android  female   36   49.0   31_40"
            ]
          },
          "metadata": {},
          "execution_count": 75
        }
      ]
    },
    {
      "cell_type": "code",
      "metadata": {
        "id": "jFGuKUPKNGhP"
      },
      "source": [
        "# define new level-based customers\n",
        "# and add it to dataset\n",
        "new_df[\"Customers_Level_Based\"] = [(new_df.COUNTRY[i].upper() + \"_\" + new_df.SOURCE[i].upper() + \"_\" + new_df.SEX[i].upper() + \"_\" + str(new_df.CAT_AGE[i]).upper()) for i in new_df.index]\n"
      ],
      "execution_count": 76,
      "outputs": []
    },
    {
      "cell_type": "code",
      "metadata": {
        "id": "6Z55OCC0NarP"
      },
      "source": [
        "new_df = new_df.loc[:, [\"Customers_Level_Based\", \"PRICE\"]]\n",
        "new_df = new_df.groupby([\"Customers_Level_Based\"]).agg({\"PRICE\": \"mean\"}).reset_index().sort_values(\"PRICE\", ascending=False)"
      ],
      "execution_count": 77,
      "outputs": []
    },
    {
      "cell_type": "code",
      "metadata": {
        "colab": {
          "base_uri": "https://localhost:8080/",
          "height": 204
        },
        "id": "CcgObeNJNivV",
        "outputId": "6dfd58ec-6709-4b2a-c6b0-24be6633c840"
      },
      "source": [
        "new_df.head()"
      ],
      "execution_count": 79,
      "outputs": [
        {
          "output_type": "execute_result",
          "data": {
            "text/html": [
              "<div>\n",
              "<style scoped>\n",
              "    .dataframe tbody tr th:only-of-type {\n",
              "        vertical-align: middle;\n",
              "    }\n",
              "\n",
              "    .dataframe tbody tr th {\n",
              "        vertical-align: top;\n",
              "    }\n",
              "\n",
              "    .dataframe thead th {\n",
              "        text-align: right;\n",
              "    }\n",
              "</style>\n",
              "<table border=\"1\" class=\"dataframe\">\n",
              "  <thead>\n",
              "    <tr style=\"text-align: right;\">\n",
              "      <th></th>\n",
              "      <th>Customers_Level_Based</th>\n",
              "      <th>PRICE</th>\n",
              "    </tr>\n",
              "  </thead>\n",
              "  <tbody>\n",
              "    <tr>\n",
              "      <th>54</th>\n",
              "      <td>FRA_ANDROID_FEMALE_24_30</td>\n",
              "      <td>45.428571</td>\n",
              "    </tr>\n",
              "    <tr>\n",
              "      <th>86</th>\n",
              "      <td>TUR_IOS_MALE_24_30</td>\n",
              "      <td>45.000000</td>\n",
              "    </tr>\n",
              "    <tr>\n",
              "      <th>87</th>\n",
              "      <td>TUR_IOS_MALE_31_40</td>\n",
              "      <td>42.333333</td>\n",
              "    </tr>\n",
              "    <tr>\n",
              "      <th>72</th>\n",
              "      <td>TUR_ANDROID_FEMALE_31_40</td>\n",
              "      <td>41.833333</td>\n",
              "    </tr>\n",
              "    <tr>\n",
              "      <th>25</th>\n",
              "      <td>CAN_ANDROID_MALE_19_23</td>\n",
              "      <td>40.111111</td>\n",
              "    </tr>\n",
              "  </tbody>\n",
              "</table>\n",
              "</div>"
            ],
            "text/plain": [
              "       Customers_Level_Based      PRICE\n",
              "54  FRA_ANDROID_FEMALE_24_30  45.428571\n",
              "86        TUR_IOS_MALE_24_30  45.000000\n",
              "87        TUR_IOS_MALE_31_40  42.333333\n",
              "72  TUR_ANDROID_FEMALE_31_40  41.833333\n",
              "25    CAN_ANDROID_MALE_19_23  40.111111"
            ]
          },
          "metadata": {},
          "execution_count": 79
        }
      ]
    },
    {
      "cell_type": "markdown",
      "metadata": {
        "id": "4SzfbjtWN5GG"
      },
      "source": [
        "#Segment new customers\n",
        "* Divide into 4 segments according to the PRICE variable"
      ]
    },
    {
      "cell_type": "code",
      "metadata": {
        "colab": {
          "base_uri": "https://localhost:8080/",
          "height": 204
        },
        "id": "ep_Q8P8pOXT7",
        "outputId": "c892643d-5e16-4714-95bf-dcf715a4a006"
      },
      "source": [
        "new_df[\"SEGMENT\"] = pd.qcut(new_df[\"PRICE\"], 4, labels=[\"D\",\"C\",\"B\",\"A\"])\n",
        "cal = [\"mean\", \"max\",\"sum\"]\n",
        "new_df.groupby([\"SEGMENT\"]).agg({\"PRICE\": cal})\n",
        "\n",
        "SEGMENT_C = new_df[new_df[\"SEGMENT\"]==\"C\"]\n",
        "SEGMENT_C.head()"
      ],
      "execution_count": 85,
      "outputs": [
        {
          "output_type": "execute_result",
          "data": {
            "text/html": [
              "<div>\n",
              "<style scoped>\n",
              "    .dataframe tbody tr th:only-of-type {\n",
              "        vertical-align: middle;\n",
              "    }\n",
              "\n",
              "    .dataframe tbody tr th {\n",
              "        vertical-align: top;\n",
              "    }\n",
              "\n",
              "    .dataframe thead th {\n",
              "        text-align: right;\n",
              "    }\n",
              "</style>\n",
              "<table border=\"1\" class=\"dataframe\">\n",
              "  <thead>\n",
              "    <tr style=\"text-align: right;\">\n",
              "      <th></th>\n",
              "      <th>Customers_Level_Based</th>\n",
              "      <th>PRICE</th>\n",
              "      <th>SEGMENT</th>\n",
              "    </tr>\n",
              "  </thead>\n",
              "  <tbody>\n",
              "    <tr>\n",
              "      <th>1</th>\n",
              "      <td>BRA_ANDROID_FEMALE_19_23</td>\n",
              "      <td>34.077340</td>\n",
              "      <td>C</td>\n",
              "    </tr>\n",
              "    <tr>\n",
              "      <th>12</th>\n",
              "      <td>BRA_IOS_FEMALE_24_30</td>\n",
              "      <td>34.015873</td>\n",
              "      <td>C</td>\n",
              "    </tr>\n",
              "    <tr>\n",
              "      <th>60</th>\n",
              "      <td>FRA_ANDROID_MALE_41_66</td>\n",
              "      <td>34.000000</td>\n",
              "      <td>C</td>\n",
              "    </tr>\n",
              "    <tr>\n",
              "      <th>44</th>\n",
              "      <td>DEU_IOS_FEMALE_19_23</td>\n",
              "      <td>34.000000</td>\n",
              "      <td>C</td>\n",
              "    </tr>\n",
              "    <tr>\n",
              "      <th>81</th>\n",
              "      <td>TUR_IOS_FEMALE_24_30</td>\n",
              "      <td>34.000000</td>\n",
              "      <td>C</td>\n",
              "    </tr>\n",
              "  </tbody>\n",
              "</table>\n",
              "</div>"
            ],
            "text/plain": [
              "       Customers_Level_Based      PRICE SEGMENT\n",
              "1   BRA_ANDROID_FEMALE_19_23  34.077340       C\n",
              "12      BRA_IOS_FEMALE_24_30  34.015873       C\n",
              "60    FRA_ANDROID_MALE_41_66  34.000000       C\n",
              "44      DEU_IOS_FEMALE_19_23  34.000000       C\n",
              "81      TUR_IOS_FEMALE_24_30  34.000000       C"
            ]
          },
          "metadata": {},
          "execution_count": 85
        }
      ]
    },
    {
      "cell_type": "code",
      "metadata": {
        "colab": {
          "base_uri": "https://localhost:8080/",
          "height": 297
        },
        "id": "db-O2D44OyUl",
        "outputId": "a26c8df8-52f5-4740-d1f6-46628248344b"
      },
      "source": [
        "SEGMENT_C.describe()"
      ],
      "execution_count": 86,
      "outputs": [
        {
          "output_type": "execute_result",
          "data": {
            "text/html": [
              "<div>\n",
              "<style scoped>\n",
              "    .dataframe tbody tr th:only-of-type {\n",
              "        vertical-align: middle;\n",
              "    }\n",
              "\n",
              "    .dataframe tbody tr th {\n",
              "        vertical-align: top;\n",
              "    }\n",
              "\n",
              "    .dataframe thead th {\n",
              "        text-align: right;\n",
              "    }\n",
              "</style>\n",
              "<table border=\"1\" class=\"dataframe\">\n",
              "  <thead>\n",
              "    <tr style=\"text-align: right;\">\n",
              "      <th></th>\n",
              "      <th>PRICE</th>\n",
              "    </tr>\n",
              "  </thead>\n",
              "  <tbody>\n",
              "    <tr>\n",
              "      <th>count</th>\n",
              "      <td>27.000000</td>\n",
              "    </tr>\n",
              "    <tr>\n",
              "      <th>mean</th>\n",
              "      <td>33.509674</td>\n",
              "    </tr>\n",
              "    <tr>\n",
              "      <th>std</th>\n",
              "      <td>0.492587</td>\n",
              "    </tr>\n",
              "    <tr>\n",
              "      <th>min</th>\n",
              "      <td>32.500000</td>\n",
              "    </tr>\n",
              "    <tr>\n",
              "      <th>25%</th>\n",
              "      <td>33.000000</td>\n",
              "    </tr>\n",
              "    <tr>\n",
              "      <th>50%</th>\n",
              "      <td>33.627634</td>\n",
              "    </tr>\n",
              "    <tr>\n",
              "      <th>75%</th>\n",
              "      <td>34.000000</td>\n",
              "    </tr>\n",
              "    <tr>\n",
              "      <th>max</th>\n",
              "      <td>34.077340</td>\n",
              "    </tr>\n",
              "  </tbody>\n",
              "</table>\n",
              "</div>"
            ],
            "text/plain": [
              "           PRICE\n",
              "count  27.000000\n",
              "mean   33.509674\n",
              "std     0.492587\n",
              "min    32.500000\n",
              "25%    33.000000\n",
              "50%    33.627634\n",
              "75%    34.000000\n",
              "max    34.077340"
            ]
          },
          "metadata": {},
          "execution_count": 86
        }
      ]
    },
    {
      "cell_type": "markdown",
      "metadata": {
        "id": "ScIgLTe8PEXP"
      },
      "source": [
        "# Categorize new customers by segment and estimate how much revenue they can generate"
      ]
    },
    {
      "cell_type": "markdown",
      "metadata": {
        "id": "JnZOH4GKP36z"
      },
      "source": [
        "* What segment does a 25-year-old Canadian woman using IOS belong to and how much income is expected to earn on average?"
      ]
    },
    {
      "cell_type": "code",
      "metadata": {
        "id": "PEUKE1p3PiKZ"
      },
      "source": [
        "new_user_1 = \"CAN_IOS_FEMALE_24_30\""
      ],
      "execution_count": 94,
      "outputs": []
    },
    {
      "cell_type": "code",
      "metadata": {
        "colab": {
          "base_uri": "https://localhost:8080/",
          "height": 80
        },
        "id": "EGT2S73vQJdV",
        "outputId": "485a9561-9ce9-4af2-ab73-6e04de86cdf9"
      },
      "source": [
        "new_df[new_df[\"Customers_Level_Based\"] == new_user_1]"
      ],
      "execution_count": 95,
      "outputs": [
        {
          "output_type": "execute_result",
          "data": {
            "text/html": [
              "<div>\n",
              "<style scoped>\n",
              "    .dataframe tbody tr th:only-of-type {\n",
              "        vertical-align: middle;\n",
              "    }\n",
              "\n",
              "    .dataframe tbody tr th {\n",
              "        vertical-align: top;\n",
              "    }\n",
              "\n",
              "    .dataframe thead th {\n",
              "        text-align: right;\n",
              "    }\n",
              "</style>\n",
              "<table border=\"1\" class=\"dataframe\">\n",
              "  <thead>\n",
              "    <tr style=\"text-align: right;\">\n",
              "      <th></th>\n",
              "      <th>Customers_Level_Based</th>\n",
              "      <th>PRICE</th>\n",
              "      <th>SEGMENT</th>\n",
              "    </tr>\n",
              "  </thead>\n",
              "  <tbody>\n",
              "    <tr>\n",
              "      <th>29</th>\n",
              "      <td>CAN_IOS_FEMALE_24_30</td>\n",
              "      <td>31.727273</td>\n",
              "      <td>D</td>\n",
              "    </tr>\n",
              "  </tbody>\n",
              "</table>\n",
              "</div>"
            ],
            "text/plain": [
              "   Customers_Level_Based      PRICE SEGMENT\n",
              "29  CAN_IOS_FEMALE_24_30  31.727273       D"
            ]
          },
          "metadata": {},
          "execution_count": 95
        }
      ]
    }
  ]
}